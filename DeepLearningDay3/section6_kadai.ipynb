{
 "cells": [
  {
   "cell_type": "markdown",
   "metadata": {},
   "source": [
    "# word2vec\n",
    "参考URL:\n",
    "https://qiita.com/9ryuuuuu/items/e4ee171079ffa4b87424"
   ]
  },
  {
   "cell_type": "code",
   "execution_count": 71,
   "metadata": {},
   "outputs": [
    {
     "name": "stdout",
     "output_type": "stream",
     "text": [
      "worddic= {'Hope': 0, 'to': 1, 'see': 2, 'you': 3, 'soon': 4, 'Nice': 5, 'again': 6}\n",
      "[input] sentences_vec= [[0. 1. 2. 3. 4.]\n",
      " [5. 1. 2. 3. 6.]]\n",
      "Model: \"sequential_41\"\n",
      "_________________________________________________________________\n",
      " Layer (type)                Output Shape              Param #   \n",
      "=================================================================\n",
      " embedding_43 (Embedding)    (None, None, 2)           14        \n",
      "                                                                 \n",
      "=================================================================\n",
      "Total params: 14\n",
      "Trainable params: 14\n",
      "Non-trainable params: 0\n",
      "_________________________________________________________________\n",
      "[output] onehot_vec= [[[1. 0. 0. 0. 0. 0. 0.]\n",
      "  [0. 1. 0. 0. 0. 0. 0.]\n",
      "  [0. 0. 1. 0. 0. 0. 0.]\n",
      "  [0. 0. 0. 1. 0. 0. 0.]\n",
      "  [0. 0. 0. 0. 1. 0. 0.]]\n",
      "\n",
      " [[0. 0. 0. 0. 0. 1. 0.]\n",
      "  [0. 1. 0. 0. 0. 0. 0.]\n",
      "  [0. 0. 1. 0. 0. 0. 0.]\n",
      "  [0. 0. 0. 1. 0. 0. 0.]\n",
      "  [0. 0. 0. 0. 0. 0. 1.]]]\n",
      "[output] embedding_vec= [[[-0.03530975 -0.00357432]\n",
      "  [-0.02751002 -0.01471115]\n",
      "  [ 0.04857408  0.04991024]\n",
      "  [ 0.00648881 -0.03362492]\n",
      "  [ 0.04890269  0.0181414 ]]\n",
      "\n",
      " [[ 0.04361813  0.0260351 ]\n",
      "  [-0.02751002 -0.01471115]\n",
      "  [ 0.04857408  0.04991024]\n",
      "  [ 0.00648881 -0.03362492]\n",
      "  [ 0.03557707 -0.00729815]]]\n",
      "[output] embed_model.get_weights()[0]= [[-0.03530975 -0.00357432]\n",
      " [-0.02751002 -0.01471115]\n",
      " [ 0.04857408  0.04991024]\n",
      " [ 0.00648881 -0.03362492]\n",
      " [ 0.04890269  0.0181414 ]\n",
      " [ 0.04361813  0.0260351 ]\n",
      " [ 0.03557707 -0.00729815]]\n"
     ]
    },
    {
     "data": {
      "text/plain": [
       "<matplotlib.legend.Legend at 0x218fabff700>"
      ]
     },
     "execution_count": 71,
     "metadata": {},
     "output_type": "execute_result"
    },
    {
     "data": {
      "image/png": "[encoded data removed]",
      "text/plain": [
       "<Figure size 432x288 with 1 Axes>"
      ]
     },
     "metadata": {},
     "output_type": "display_data"
    }
   ],
   "source": [
    "import numpy as np\n",
    "from numpy.random import seed\n",
    "from tensorflow import keras\n",
    "\n",
    "# 辞書作成（単語―IDの対応表を作成）\n",
    "def make_worddic(sencentes):\n",
    "    worddic = {}\n",
    "    for sentence in sentences:\n",
    "        for word in sentence:\n",
    "            if not word in worddic.keys():\n",
    "                worddic[word] = len(worddic)\n",
    "    return worddic\n",
    "\n",
    "# 文章中の単語をID列に変換\n",
    "def conv_sentences2vec(worddic, sentences):\n",
    "    num_sentence = len(sentences)\n",
    "    lenmax_sentence = 0\n",
    "    for sentence in sentences:\n",
    "        len_sentence = len(sentence)\n",
    "        if len_sentence > lenmax_sentence:\n",
    "            lenmax_sentence = len_sentence\n",
    "\n",
    "    n_array = np.zeros((num_sentence,lenmax_sentence))\n",
    "    for idx_s,sentence in enumerate(sentences):\n",
    "        n_array[idx_s] = np.zeros(lenmax_sentence)\n",
    "        for idx_w,word in enumerate(sentence):\n",
    "            n_array[idx_s][idx_w] = worddic[word]\n",
    "\n",
    "    return n_array\n",
    "\n",
    "# OneHot Vector作成\n",
    "def make_onehot(sentences_vec, dim):\n",
    "    onehot_vec = np.zeros((sentences_vec.shape[0], sentences_vec.shape[1], dim))\n",
    "    for idx_s,sentence_array in enumerate(sentences_vec):\n",
    "        for idx_w, word in enumerate(sentence_array):\n",
    "            onehot_vec[idx_s][idx_w][int(word)] = 1\n",
    "\n",
    "    return onehot_vec\n",
    "\n",
    "# 毎回の計算結果を同一にするための設定\n",
    "seed(1)\n",
    "tf.random.set_seed(2)\n",
    "\n",
    "# ================\n",
    "#  入力データ作成\n",
    "# ================\n",
    "# サンプル文章(2文)\n",
    "sentences = [\n",
    "    ['Hope', 'to', 'see', 'you', 'soon'],\n",
    "    ['Nice', 'to', 'see', 'you', 'again']\n",
    "]\n",
    "worddic = make_worddic(sentences)\n",
    "sentences_vec = conv_sentences2vec(worddic, sentences)\n",
    "print(\"worddic=\",worddic)\n",
    "print(\"[input] sentences_vec=\",sentences_vec)\n",
    "\n",
    "vocab_size = len(worddic)\n",
    "embed_size = 2\n",
    "\n",
    "# ===================\n",
    "#  OneHot Vector作成\n",
    "# ===================\n",
    "output_onehot_vec = make_onehot(sentences_vec, vocab_size)\n",
    "\n",
    "# ===================\n",
    "#  embedding表現作成\n",
    "# ===================\n",
    "embed_model = keras.Sequential()\n",
    "embed_model.add(keras.layers.Embedding(vocab_size, embed_size))\n",
    "embed_model.compile(optimizer='rmsprop', loss='mse')\n",
    "embed_model.summary()\n",
    "output_embedding_vec = embed_model.predict(sentences_vec)\n",
    "\n",
    "# ===================\n",
    "#  結果出力\n",
    "# ===================\n",
    "import matplotlib.pyplot as plt\n",
    "\n",
    "print(\"[output] onehot_vec=\",output_onehot_vec)\n",
    "print(\"[output] embedding_vec=\",output_embedding_vec)\n",
    "print(\"[output] embed_model.get_weights()[0]=\",embed_model.get_weights()[0])\n",
    "\n",
    "plt.figure(facecolor=\"white\")\n",
    "plt.title(\"embedding_vec\")\n",
    "plt.xlabel(\"[0]\")\n",
    "plt.ylabel(\"[1]\")\n",
    "for word, embed_vec in zip(worddic.keys(), embed_model.get_weights()[0]):\n",
    "    plt.scatter(embed_vec[0], embed_vec[1], label=word)\n",
    "\n",
    "plt.legend(loc=\"upper left\") "
   ]
  },
  {
   "cell_type": "code",
   "execution_count": null,
   "metadata": {},
   "outputs": [],
   "source": []
  }
 ],
 "metadata": {
  "interpreter": {
   "hash": "734fcb2955e61c95bc52e7ba333639f24418f21fd62fa5806387fd056a54dca5"
  },
  "kernelspec": {
   "display_name": "Python 3.9.6 64-bit ('studyai': conda)",
   "language": "python",
   "name": "python3"
  },
  "language_info": {
   "codemirror_mode": {
    "name": "ipython",
    "version": 3
   },
   "file_extension": ".py",
   "mimetype": "text/x-python",
   "name": "python",
   "nbconvert_exporter": "python",
   "pygments_lexer": "ipython3",
   "version": "3.9.6"
  },
  "orig_nbformat": 4
 },
 "nbformat": 4,
 "nbformat_minor": 2
}
